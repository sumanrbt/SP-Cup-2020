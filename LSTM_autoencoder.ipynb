{
  "nbformat": 4,
  "nbformat_minor": 0,
  "metadata": {
    "colab": {
      "name": "LSTM_autoencoder.ipynb",
      "provenance": [],
      "authorship_tag": "ABX9TyMQoPBbbAyAddbsOjLT+VYr",
      "include_colab_link": true
    },
    "kernelspec": {
      "name": "python3",
      "display_name": "Python 3"
    }
  },
  "cells": [
    {
      "cell_type": "markdown",
      "metadata": {
        "id": "view-in-github",
        "colab_type": "text"
      },
      "source": [
        "<a href=\"https://colab.research.google.com/github/sumanrbt/SP-Cup-2020/blob/master/LSTM_autoencoder.ipynb\" target=\"_parent\"><img src=\"https://colab.research.google.com/assets/colab-badge.svg\" alt=\"Open In Colab\"/></a>"
      ]
    },
    {
      "cell_type": "code",
      "metadata": {
        "id": "og4nda8t6F7_",
        "colab_type": "code",
        "outputId": "580511e5-6d4a-4473-c458-72153c75c860",
        "colab": {
          "base_uri": "https://localhost:8080/",
          "height": 55
        }
      },
      "source": [
        "from google.colab import drive\n",
        "drive.mount('/content/drive')\n"
      ],
      "execution_count": 0,
      "outputs": [
        {
          "output_type": "stream",
          "text": [
            "Drive already mounted at /content/drive; to attempt to forcibly remount, call drive.mount(\"/content/drive\", force_remount=True).\n"
          ],
          "name": "stdout"
        }
      ]
    },
    {
      "cell_type": "code",
      "metadata": {
        "id": "FkcBw2EA7zLY",
        "colab_type": "code",
        "outputId": "835af07b-9bec-42c9-ed50-b50cc90220ec",
        "colab": {
          "base_uri": "https://localhost:8080/",
          "height": 55
        }
      },
      "source": [
        "from google.colab import drive\n",
        "drive.mount('/content/drive')\n",
        "path=\"/content/drive/My Drive/SP CUP 2020/SP Cup\""
      ],
      "execution_count": 0,
      "outputs": [
        {
          "output_type": "stream",
          "text": [
            "Drive already mounted at /content/drive; to attempt to forcibly remount, call drive.mount(\"/content/drive\", force_remount=True).\n"
          ],
          "name": "stdout"
        }
      ]
    },
    {
      "cell_type": "markdown",
      "metadata": {
        "id": "T-Tzrm1A-7M2",
        "colab_type": "text"
      },
      "source": [
        "The two folders folders_norm and forlders_abnorm contain the paths to the 6 normal imu data and 6 abnormal imu data."
      ]
    },
    {
      "cell_type": "code",
      "metadata": {
        "id": "SsXUSkO56I4X",
        "colab_type": "code",
        "outputId": "94fd75d2-9946-47d0-ee7a-3bf49ee31d84",
        "colab": {
          "base_uri": "https://localhost:8080/",
          "height": 87
        }
      },
      "source": [
        "ls \"/content/drive/My Drive/SP CUP 2020/SP Cup\""
      ],
      "execution_count": 0,
      "outputs": [
        {
          "output_type": "stream",
          "text": [
            " \u001b[0m\u001b[01;34m01_Initial_dataset_with_no_abnormalities\u001b[0m/\n",
            " \u001b[01;34m02_Initial_dataset_with_abnormalities\u001b[0m/\n",
            "\u001b[01;34m'03_Dataset with 5 normal experiments_17Jan2020'\u001b[0m/\n",
            "\u001b[01;34m'04_Dataset with 5 abnormal experiments_17Jan2020'\u001b[0m/\n"
          ],
          "name": "stdout"
        }
      ]
    },
    {
      "cell_type": "code",
      "metadata": {
        "id": "4TPg47jM8JJR",
        "colab_type": "code",
        "colab": {}
      },
      "source": [
        "folders_norm=[\"/content/drive/My Drive/SP CUP 2020/SP Cup/01_Initial_dataset_with_no_abnormalities/_slash_mavros_slash_imu_slash_data.csv\",\"/content/drive/My Drive/SP CUP 2020/SP Cup/03_Dataset with 5 normal experiments_17Jan2020/2020-01-17-11-32-12/_slash_mavros_slash_imu_slash_data.csv\",\"/content/drive/My Drive/SP CUP 2020/SP Cup/03_Dataset with 5 normal experiments_17Jan2020/2020-01-17-11-32-49/_slash_mavros_slash_imu_slash_data.csv\",\"/content/drive/My Drive/SP CUP 2020/SP Cup/03_Dataset with 5 normal experiments_17Jan2020/2020-01-17-11-33-26/_slash_mavros_slash_imu_slash_data.csv\",\"/content/drive/My Drive/SP CUP 2020/SP Cup/03_Dataset with 5 normal experiments_17Jan2020/2020-01-17-11-34-08/_slash_mavros_slash_imu_slash_data.csv\",\"/content/drive/My Drive/SP CUP 2020/SP Cup/03_Dataset with 5 normal experiments_17Jan2020/2020-01-17-11-34-43/_slash_mavros_slash_imu_slash_data.csv\"]\n",
        "folders_abnorm=[\"/content/drive/My Drive/SP CUP 2020/SP Cup/02_Initial_dataset_with_abnormalities/_slash_mavros_slash_imu_slash_data.csv\",\"/content/drive/My Drive/SP CUP 2020/SP Cup/04_Dataset with 5 abnormal experiments_17Jan2020/2020-01-17-11-35-27/_slash_mavros_slash_imu_slash_data.csv\",\"/content/drive/My Drive/SP CUP 2020/SP Cup/04_Dataset with 5 abnormal experiments_17Jan2020/2020-01-17-11-36-03/_slash_mavros_slash_imu_slash_data.csv\",\"/content/drive/My Drive/SP CUP 2020/SP Cup/04_Dataset with 5 abnormal experiments_17Jan2020/2020-01-17-11-36-43/_slash_mavros_slash_imu_slash_data.csv\",\"/content/drive/My Drive/SP CUP 2020/SP Cup/04_Dataset with 5 abnormal experiments_17Jan2020/2020-01-17-11-37-25/_slash_mavros_slash_imu_slash_data.csv\",\"/content/drive/My Drive/SP CUP 2020/SP Cup/04_Dataset with 5 abnormal experiments_17Jan2020/2020-01-17-11-38-07/_slash_mavros_slash_imu_slash_data.csv\"]"
      ],
      "execution_count": 0,
      "outputs": []
    },
    {
      "cell_type": "markdown",
      "metadata": {
        "id": "fg6WkG6YAYlw",
        "colab_type": "text"
      },
      "source": [
        "### IMPORTS"
      ]
    },
    {
      "cell_type": "code",
      "metadata": {
        "id": "qlKr4KT6AcqK",
        "colab_type": "code",
        "colab": {}
      },
      "source": [
        "import matplotlib.pyplot as plt\n",
        "import numpy as np\n",
        "import pandas as pd"
      ],
      "execution_count": 0,
      "outputs": []
    },
    {
      "cell_type": "markdown",
      "metadata": {
        "id": "EuX7Qp8BAh0E",
        "colab_type": "text"
      },
      "source": [
        "## Normal IMU data"
      ]
    },
    {
      "cell_type": "code",
      "metadata": {
        "id": "hSA-ehqSAnao",
        "colab_type": "code",
        "colab": {}
      },
      "source": [
        "num=0\n",
        "data_dir = folders_norm[num]\n",
        "df=pd.read_csv(data_dir)\n",
        "linear_acceleration = pd.DataFrame()\n",
        "for i in range(len(df)):\n",
        "    x=df[\"x.2\"][i]\n",
        "    y=df[\"y.2\"][i]\n",
        "    z=df[\"z.2\"][i]\n",
        "    la=np.array([x,y,z])\n",
        "    la_df=pd.DataFrame(la.reshape(1,3))\n",
        "    la_df.index=[str(i)]\n",
        "    linear_acceleration=linear_acceleration.append(la_df)\n",
        "    \n",
        "linear_acceleration.columns=[\"X\",\"Y\",\"Z\"]"
      ],
      "execution_count": 0,
      "outputs": []
    },
    {
      "cell_type": "code",
      "metadata": {
        "id": "BfF0BbE9A1Ql",
        "colab_type": "code",
        "outputId": "a4d6f64f-f9a5-49a7-ff51-7a5f42c67c3c",
        "colab": {
          "base_uri": "https://localhost:8080/",
          "height": 301
        }
      },
      "source": [
        "#plt.figure(figsize=(14,6))\n",
        "plt.plot(linear_acceleration[\"X\"],label=\"X\",linewidth=2,color=\"red\")\n",
        "plt.plot(linear_acceleration[\"Y\"],label=\"Y\",linewidth=2, color=\"green\")\n",
        "plt.plot(linear_acceleration[\"Z\"],label=\"Z\",linewidth=2, color=\"blue\")\n",
        "plt.xlim=(0,340)\n",
        "plt.axis([0,len(linear_acceleration),-20,20])\n",
        "plt.legend(loc='lower center',fontsize=18)\n",
        "plt.xticks(np.arange(0,340 , step=20))\n",
        "plt.title(\"Normal Linear Acceleration\",fontsize=20)\n",
        "#plt.axvspan(0,60,facecolor='r', alpha=0.5)\n",
        "plt.ylabel(\"Linear_Acceleration\")\n",
        "plt.xlabel(\"time_stamps\")\n",
        "plt.savefig(\"Linear_acceleration_normal.png\")\n",
        "#plt.show()"
      ],
      "execution_count": 0,
      "outputs": [
        {
          "output_type": "display_data",
          "data": {
            "image/png": "[encoded data removed]",
            "text/plain": [
              "<Figure size 432x288 with 1 Axes>"
            ]
          },
          "metadata": {
            "tags": []
          }
        }
      ]
    },
    {
      "cell_type": "markdown",
      "metadata": {
        "id": "5IGml3Y2Gcob",
        "colab_type": "text"
      },
      "source": [
        "## Abnormal IMU data"
      ]
    },
    {
      "cell_type": "code",
      "metadata": {
        "id": "LUBmI0MgGSZn",
        "colab_type": "code",
        "colab": {}
      },
      "source": [
        "numb=0\n",
        "data_dir_ab = folders_abnorm[numb]\n",
        "df_ab=pd.read_csv(data_dir_ab)\n",
        "linear_acceleration_ab = pd.DataFrame()\n",
        "for i in range(len(linear_acceleration),len(linear_acceleration)+len(df_ab)):\n",
        "    x=df_ab[\"x.2\"][i-len(linear_acceleration)]\n",
        "    y=df_ab[\"y.2\"][i-len(linear_acceleration)]\n",
        "    z=df_ab[\"z.2\"][i-len(linear_acceleration)]\n",
        "    la=np.array([x,y,z])\n",
        "    la_df=pd.DataFrame(la.reshape(1,3))\n",
        "    la_df.index=[str(i)]\n",
        "    linear_acceleration_ab=linear_acceleration_ab.append(la_df)\n",
        "    \n",
        "linear_acceleration_ab.columns=[\"X\",\"Y\",\"Z\"]"
      ],
      "execution_count": 0,
      "outputs": []
    },
    {
      "cell_type": "code",
      "metadata": {
        "id": "tOZMVUJZGrFi",
        "colab_type": "code",
        "outputId": "734efdd1-a439-4d30-8327-eeaeadfdc31b",
        "colab": {
          "base_uri": "https://localhost:8080/",
          "height": 417
        }
      },
      "source": [
        "plt.figure(figsize=(14,6))\n",
        "plt.plot(linear_acceleration_ab[\"X\"],label=\"X\",linewidth=2,color=\"red\")\n",
        "plt.plot(linear_acceleration_ab[\"Y\"],label=\"Y\",linewidth=2, color=\"green\")\n",
        "plt.plot(linear_acceleration_ab[\"Z\"],label=\"Z\",linewidth=2, color=\"blue\")\n",
        "plt.xlim=(0,340)\n",
        "plt.axis([0,len(linear_acceleration_ab),-20,20])\n",
        "plt.legend(loc='center',fontsize=18)\n",
        "plt.xticks(np.arange(0,340 , step=16))\n",
        "plt.title(\"Abnormal Linear Acceleration\",fontsize=25)\n",
        "plt.xticks([])\n",
        "plt.ylabel(\"Linear_Acceleration\")\n",
        "plt.xlabel(\"time_stamps\")\n",
        "plt.savefig(\"Linear_acceleration_abnormal.png\")\n",
        "plt.show()"
      ],
      "execution_count": 0,
      "outputs": [
        {
          "output_type": "display_data",
          "data": {
            "image/png": "[encoded data removed]",
            "text/plain": [
              "<Figure size 1008x432 with 1 Axes>"
            ]
          },
          "metadata": {
            "tags": []
          }
        }
      ]
    },
    {
      "cell_type": "markdown",
      "metadata": {
        "id": "BPjPVJ4uGzhq",
        "colab_type": "text"
      },
      "source": [
        "## Combining the two dataframes"
      ]
    },
    {
      "cell_type": "code",
      "metadata": {
        "id": "QYdM0m4aGwr2",
        "colab_type": "code",
        "outputId": "ff8c90c8-574c-46a3-f9f3-d4d4061b3929",
        "colab": {
          "base_uri": "https://localhost:8080/",
          "height": 434
        }
      },
      "source": [
        "frames=[linear_acceleration,linear_acceleration_ab]\n",
        "result=pd.concat(frames)\n",
        "\n",
        "plt.figure(figsize=(14,6))\n",
        "plt.plot(result[\"X\"],label=\"X\",linewidth=2,color=\"red\")\n",
        "plt.plot(result[\"Y\"],label=\"Y\",linewidth=2, color=\"green\")\n",
        "plt.plot(result[\"Z\"],label=\"Z\",linewidth=2, color=\"blue\")\n",
        "plt.xlim=(0,340)\n",
        "plt.axis([0,len(result),-20,20])\n",
        "plt.legend(loc='lower center',fontsize=18)\n",
        "plt.xticks(np.arange(0,len(result) , step=20))\n",
        "plt.title(\"Combined Normal and abnormal Linear Acceleration\",fontsize=25)\n",
        "plt.axvspan(0,301,facecolor='grey', alpha=0.4,label=\"normal\")\n",
        "plt.text(0,-19,\"Normal\",fontsize=30)\n",
        "plt.text(285,-19,\"Abnormal\",fontsize=30)\n",
        "plt.axvspan(301,340,facecolor='red', alpha=0.3,label=\"abnormal\")\n",
        "plt.ylabel(\"Linear_Acceleration\")\n",
        "plt.xlabel(\"time_stamps\")\n",
        "plt.savefig(\"Linear_acceleration_combined.png\")\n",
        "plt.show()"
      ],
      "execution_count": 0,
      "outputs": [
        {
          "output_type": "display_data",
          "data": {
            "image/png": "[encoded data removed]",
            "text/plain": [
              "<Figure size 1008x432 with 1 Axes>"
            ]
          },
          "metadata": {
            "tags": []
          }
        }
      ]
    },
    {
      "cell_type": "markdown",
      "metadata": {
        "id": "Xoy836XnG8IC",
        "colab_type": "text"
      },
      "source": [
        "### Data Preprocessing"
      ]
    },
    {
      "cell_type": "code",
      "metadata": {
        "id": "lN31b0GZG1xc",
        "colab_type": "code",
        "colab": {}
      },
      "source": [
        "from sklearn.preprocessing import MinMaxScaler\n",
        "scaler=MinMaxScaler()"
      ],
      "execution_count": 0,
      "outputs": []
    },
    {
      "cell_type": "code",
      "metadata": {
        "id": "f0yq12PiG-Ud",
        "colab_type": "code",
        "outputId": "44face05-f938-414b-cc2d-a3ea4522c647",
        "colab": {
          "base_uri": "https://localhost:8080/",
          "height": 415
        }
      },
      "source": [
        "linear_acceleration"
      ],
      "execution_count": 0,
      "outputs": [
        {
          "output_type": "execute_result",
          "data": {
            "text/html": [
              "<div>\n",
              "<style scoped>\n",
              "    .dataframe tbody tr th:only-of-type {\n",
              "        vertical-align: middle;\n",
              "    }\n",
              "\n",
              "    .dataframe tbody tr th {\n",
              "        vertical-align: top;\n",
              "    }\n",
              "\n",
              "    .dataframe thead th {\n",
              "        text-align: right;\n",
              "    }\n",
              "</style>\n",
              "<table border=\"1\" class=\"dataframe\">\n",
              "  <thead>\n",
              "    <tr style=\"text-align: right;\">\n",
              "      <th></th>\n",
              "      <th>X</th>\n",
              "      <th>Y</th>\n",
              "      <th>Z</th>\n",
              "    </tr>\n",
              "  </thead>\n",
              "  <tbody>\n",
              "    <tr>\n",
              "      <th>0</th>\n",
              "      <td>-0.107873</td>\n",
              "      <td>0.088260</td>\n",
              "      <td>9.806650</td>\n",
              "    </tr>\n",
              "    <tr>\n",
              "      <th>1</th>\n",
              "      <td>-0.107873</td>\n",
              "      <td>0.068647</td>\n",
              "      <td>9.777230</td>\n",
              "    </tr>\n",
              "    <tr>\n",
              "      <th>2</th>\n",
              "      <td>-0.107873</td>\n",
              "      <td>0.078453</td>\n",
              "      <td>9.777230</td>\n",
              "    </tr>\n",
              "    <tr>\n",
              "      <th>3</th>\n",
              "      <td>-0.117680</td>\n",
              "      <td>0.068647</td>\n",
              "      <td>9.787037</td>\n",
              "    </tr>\n",
              "    <tr>\n",
              "      <th>4</th>\n",
              "      <td>-0.098067</td>\n",
              "      <td>0.078453</td>\n",
              "      <td>9.777230</td>\n",
              "    </tr>\n",
              "    <tr>\n",
              "      <th>...</th>\n",
              "      <td>...</td>\n",
              "      <td>...</td>\n",
              "      <td>...</td>\n",
              "    </tr>\n",
              "    <tr>\n",
              "      <th>297</th>\n",
              "      <td>-0.137293</td>\n",
              "      <td>0.088260</td>\n",
              "      <td>9.777230</td>\n",
              "    </tr>\n",
              "    <tr>\n",
              "      <th>298</th>\n",
              "      <td>-0.137293</td>\n",
              "      <td>0.068647</td>\n",
              "      <td>9.796843</td>\n",
              "    </tr>\n",
              "    <tr>\n",
              "      <th>299</th>\n",
              "      <td>-0.147100</td>\n",
              "      <td>0.078453</td>\n",
              "      <td>9.787037</td>\n",
              "    </tr>\n",
              "    <tr>\n",
              "      <th>300</th>\n",
              "      <td>-0.147100</td>\n",
              "      <td>0.078453</td>\n",
              "      <td>9.787037</td>\n",
              "    </tr>\n",
              "    <tr>\n",
              "      <th>301</th>\n",
              "      <td>-0.147100</td>\n",
              "      <td>0.078453</td>\n",
              "      <td>9.806650</td>\n",
              "    </tr>\n",
              "  </tbody>\n",
              "</table>\n",
              "<p>302 rows × 3 columns</p>\n",
              "</div>"
            ],
            "text/plain": [
              "            X         Y         Z\n",
              "0   -0.107873  0.088260  9.806650\n",
              "1   -0.107873  0.068647  9.777230\n",
              "2   -0.107873  0.078453  9.777230\n",
              "3   -0.117680  0.068647  9.787037\n",
              "4   -0.098067  0.078453  9.777230\n",
              "..        ...       ...       ...\n",
              "297 -0.137293  0.088260  9.777230\n",
              "298 -0.137293  0.068647  9.796843\n",
              "299 -0.147100  0.078453  9.787037\n",
              "300 -0.147100  0.078453  9.787037\n",
              "301 -0.147100  0.078453  9.806650\n",
              "\n",
              "[302 rows x 3 columns]"
            ]
          },
          "metadata": {
            "tags": []
          },
          "execution_count": 12
        }
      ]
    },
    {
      "cell_type": "code",
      "metadata": {
        "id": "zQ25v7iAHAAk",
        "colab_type": "code",
        "colab": {}
      },
      "source": [
        "scaler=scaler.fit(linear_acceleration)\n",
        "d=scaler.transform(linear_acceleration)\n",
        "ab=scaler.transform(linear_acceleration_ab)"
      ],
      "execution_count": 0,
      "outputs": []
    },
    {
      "cell_type": "code",
      "metadata": {
        "id": "31GaNR0XHCQX",
        "colab_type": "code",
        "colab": {}
      },
      "source": [
        "linear_acceleration_s=pd.DataFrame(d,columns=[\"X\",\"Y\",\"Z\"])\n",
        "linear_acceleration_s_ab=pd.DataFrame(ab,columns=[\"X\",\"Y\",\"Z\"])"
      ],
      "execution_count": 0,
      "outputs": []
    },
    {
      "cell_type": "code",
      "metadata": {
        "id": "OD-HSrqxHHzC",
        "colab_type": "code",
        "outputId": "3a283242-3b4a-402a-910e-6e94c6b9a649",
        "colab": {
          "base_uri": "https://localhost:8080/",
          "height": 202
        }
      },
      "source": [
        "linear_acceleration_s.head()"
      ],
      "execution_count": 0,
      "outputs": [
        {
          "output_type": "execute_result",
          "data": {
            "text/html": [
              "<div>\n",
              "<style scoped>\n",
              "    .dataframe tbody tr th:only-of-type {\n",
              "        vertical-align: middle;\n",
              "    }\n",
              "\n",
              "    .dataframe tbody tr th {\n",
              "        vertical-align: top;\n",
              "    }\n",
              "\n",
              "    .dataframe thead th {\n",
              "        text-align: right;\n",
              "    }\n",
              "</style>\n",
              "<table border=\"1\" class=\"dataframe\">\n",
              "  <thead>\n",
              "    <tr style=\"text-align: right;\">\n",
              "      <th></th>\n",
              "      <th>X</th>\n",
              "      <th>Y</th>\n",
              "      <th>Z</th>\n",
              "    </tr>\n",
              "  </thead>\n",
              "  <tbody>\n",
              "    <tr>\n",
              "      <th>0</th>\n",
              "      <td>0.566766</td>\n",
              "      <td>0.366569</td>\n",
              "      <td>0.246269</td>\n",
              "    </tr>\n",
              "    <tr>\n",
              "      <th>1</th>\n",
              "      <td>0.566766</td>\n",
              "      <td>0.360704</td>\n",
              "      <td>0.235075</td>\n",
              "    </tr>\n",
              "    <tr>\n",
              "      <th>2</th>\n",
              "      <td>0.566766</td>\n",
              "      <td>0.363636</td>\n",
              "      <td>0.235075</td>\n",
              "    </tr>\n",
              "    <tr>\n",
              "      <th>3</th>\n",
              "      <td>0.563798</td>\n",
              "      <td>0.360704</td>\n",
              "      <td>0.238806</td>\n",
              "    </tr>\n",
              "    <tr>\n",
              "      <th>4</th>\n",
              "      <td>0.569733</td>\n",
              "      <td>0.363636</td>\n",
              "      <td>0.235075</td>\n",
              "    </tr>\n",
              "  </tbody>\n",
              "</table>\n",
              "</div>"
            ],
            "text/plain": [
              "          X         Y         Z\n",
              "0  0.566766  0.366569  0.246269\n",
              "1  0.566766  0.360704  0.235075\n",
              "2  0.566766  0.363636  0.235075\n",
              "3  0.563798  0.360704  0.238806\n",
              "4  0.569733  0.363636  0.235075"
            ]
          },
          "metadata": {
            "tags": []
          },
          "execution_count": 15
        }
      ]
    },
    {
      "cell_type": "code",
      "metadata": {
        "id": "AfYTtB2vHKi8",
        "colab_type": "code",
        "colab": {}
      },
      "source": [
        "z=np.array(linear_acceleration_s)\n",
        "y=np.array(linear_acceleration_s_ab)"
      ],
      "execution_count": 0,
      "outputs": []
    },
    {
      "cell_type": "code",
      "metadata": {
        "id": "Cu0-5ZqHHM0k",
        "colab_type": "code",
        "colab": {}
      },
      "source": [
        "x_train=np.reshape(z,(len(np.array(linear_acceleration_s)),1,3))\n",
        "x_ab=np.reshape(y,(len(np.array(linear_acceleration_s_ab)),1,3))"
      ],
      "execution_count": 0,
      "outputs": []
    },
    {
      "cell_type": "markdown",
      "metadata": {
        "id": "5iB5ButXHR0F",
        "colab_type": "text"
      },
      "source": [
        "### LSTM Auto_Encoder Building"
      ]
    },
    {
      "cell_type": "code",
      "metadata": {
        "id": "o_L3duC6HO5P",
        "colab_type": "code",
        "colab": {}
      },
      "source": [
        "from keras.models import Sequential\n",
        "from keras.layers import Dense\n",
        "from keras.layers import LSTM\n",
        "from keras.layers import RepeatVector\n",
        "from keras.layers import TimeDistributed\n",
        "from keras.models import load_model"
      ],
      "execution_count": 0,
      "outputs": []
    },
    {
      "cell_type": "code",
      "metadata": {
        "id": "nbnZNpD_HT50",
        "colab_type": "code",
        "outputId": "9e3c63b8-80a6-42b0-a95e-6b26d8caa5c8",
        "colab": {
          "base_uri": "https://localhost:8080/",
          "height": 754
        }
      },
      "source": [
        "time_step=1\n",
        "n_features=3\n",
        "model=Sequential()\n",
        "model.add(LSTM(128,activation=\"tanh\",batch_input_shape=(None,time_step,n_features),return_sequences=True))\n",
        "model.add(LSTM(64,activation=\"tanh\",batch_input_shape=(None,time_step,n_features),return_sequences=False))\n",
        "model.add(RepeatVector(1))\n",
        "model.add(LSTM(64,activation=\"tanh\",batch_input_shape=(None,time_step,n_features),return_sequences=True))\n",
        "model.add(LSTM(128,activation=\"tanh\",batch_input_shape=(None,time_step,n_features),return_sequences=True))\n",
        "model.add(TimeDistributed(Dense(n_features)))\n",
        "#model.summary()\n",
        "from keras.utils import plot_model\n",
        "plot_model(model, to_file='LSTM_autoencoder_model.png', show_shapes=True,show_layer_names=True)"
      ],
      "execution_count": 0,
      "outputs": [
        {
          "output_type": "execute_result",
          "data": {
            "image/png": "[encoded data removed]",
            "text/plain": [
              "<IPython.core.display.Image object>"
            ]
          },
          "metadata": {
            "tags": []
          },
          "execution_count": 29
        }
      ]
    },
    {
      "cell_type": "code",
      "metadata": {
        "id": "oPkCDtyQHX1M",
        "colab_type": "code",
        "colab": {}
      },
      "source": [
        "model.compile(optimizer=\"adam\",loss=\"mse\")\n",
        "model.fit(x_train,x_train,epochs=200)"
      ],
      "execution_count": 0,
      "outputs": []
    },
    {
      "cell_type": "code",
      "metadata": {
        "id": "sBVBVzgBHahB",
        "colab_type": "code",
        "outputId": "6bcc7a14-7297-4c0c-fbeb-a16a73ea8fbe",
        "colab": {
          "base_uri": "https://localhost:8080/",
          "height": 667
        }
      },
      "source": [
        "import seaborn as sns\n",
        "x_pred = model.predict(x_train)\n",
        "x_pred = x_pred.reshape(x_pred.shape[0], x_pred.shape[2])\n",
        "x_pred = pd.DataFrame(x_pred, columns=linear_acceleration_s.columns)\n",
        "x_pred.index = linear_acceleration_s.index\n",
        "\n",
        "scored = pd.DataFrame(index=linear_acceleration_s.index)\n",
        "X_train = x_train.reshape(x_train.shape[0], x_train.shape[2])\n",
        "scored['Loss_mae'] = np.mean(np.abs(x_pred-X_train), axis = 1)\n",
        "\n",
        "plt.figure(figsize=(16,9), dpi=80)\n",
        "#plt.xticks(np.arange(0, 1, step=0.05))\n",
        "plt.title('Reconstruction_Loss Distribution', fontsize=16)\n",
        "sns.distplot(scored['Loss_mae'], bins =30, kde= True, color = 'green');\n",
        "\n",
        "print(x_train.shape)"
      ],
      "execution_count": 0,
      "outputs": [
        {
          "output_type": "stream",
          "text": [
            "(302, 1, 3)\n"
          ],
          "name": "stdout"
        },
        {
          "output_type": "display_data",
          "data": {
            "image/png": "[encoded data removed]",
            "text/plain": [
              "<Figure size 1280x720 with 1 Axes>"
            ]
          },
          "metadata": {
            "tags": []
          }
        }
      ]
    },
    {
      "cell_type": "code",
      "metadata": {
        "id": "8Ocm4e8mHi3F",
        "colab_type": "code",
        "colab": {}
      },
      "source": [
        "model.save(\"linear_acceleration_abnormality_model.hdf5\")"
      ],
      "execution_count": 0,
      "outputs": []
    },
    {
      "cell_type": "code",
      "metadata": {
        "id": "jJwNtRcrHlkR",
        "colab_type": "code",
        "outputId": "4dbe9298-2638-41d8-c052-d28aba9b4c82",
        "colab": {
          "base_uri": "https://localhost:8080/",
          "height": 663
        }
      },
      "source": [
        "model=load_model(\"linear_acceleration_abnormality_model.hdf5\")\n",
        "x_ab=np.reshape(y,(len(np.array(linear_acceleration_s_ab)),1,3))\n",
        "x_pred_ab = model.predict(x_ab)\n",
        "x_pred_ab = x_pred_ab.reshape(x_pred_ab.shape[0], x_pred_ab.shape[2])\n",
        "x_pred_ab= pd.DataFrame(x_pred_ab, columns=linear_acceleration_s_ab.columns)\n",
        "x_pred_ab.index = linear_acceleration_s_ab.index\n",
        "x_pred_ab.head()\n",
        "scored_ab = pd.DataFrame(index=linear_acceleration_s_ab.index)\n",
        "x_ab = x_ab.reshape(x_ab.shape[0], x_ab.shape[2])\n",
        "scored_ab['Loss_mae'] = np.mean(np.abs(x_pred_ab-x_ab), axis = 1)\n",
        "\n",
        "plt.figure(figsize=(16,9), dpi=80)\n",
        "plt.xticks(np.arange(0, 6, step=0.2),fontsize=6)\n",
        "plt.title('Reconstruction_Loss Distribution', fontsize=16)\n",
        "sns.distplot(scored_ab['Loss_mae'], bins =30, kde= True, color = 'green');\n",
        "print(min(scored_ab[\"Loss_mae\"]))\n"
      ],
      "execution_count": 0,
      "outputs": [
        {
          "output_type": "stream",
          "text": [
            "0.0013926423941198844\n"
          ],
          "name": "stdout"
        },
        {
          "output_type": "display_data",
          "data": {
            "image/png": "[encoded data removed]",
            "text/plain": [
              "<Figure size 1280x720 with 1 Axes>"
            ]
          },
          "metadata": {
            "tags": []
          }
        }
      ]
    },
    {
      "cell_type": "markdown",
      "metadata": {
        "id": "4rGlPcseIEfJ",
        "colab_type": "text"
      },
      "source": [
        "## Best Threshold=0.175"
      ]
    },
    {
      "cell_type": "code",
      "metadata": {
        "id": "h6hM4x8MHnzC",
        "colab_type": "code",
        "colab": {}
      },
      "source": [
        "## Checking the final abnormality detection in real-time"
      ],
      "execution_count": 0,
      "outputs": []
    },
    {
      "cell_type": "code",
      "metadata": {
        "id": "3LlskmhUIDet",
        "colab_type": "code",
        "outputId": "d804a607-556a-41c8-aa36-1be8f94b15b6",
        "colab": {
          "base_uri": "https://localhost:8080/",
          "height": 202
        }
      },
      "source": [
        "result.head()"
      ],
      "execution_count": 0,
      "outputs": [
        {
          "output_type": "execute_result",
          "data": {
            "text/html": [
              "<div>\n",
              "<style scoped>\n",
              "    .dataframe tbody tr th:only-of-type {\n",
              "        vertical-align: middle;\n",
              "    }\n",
              "\n",
              "    .dataframe tbody tr th {\n",
              "        vertical-align: top;\n",
              "    }\n",
              "\n",
              "    .dataframe thead th {\n",
              "        text-align: right;\n",
              "    }\n",
              "</style>\n",
              "<table border=\"1\" class=\"dataframe\">\n",
              "  <thead>\n",
              "    <tr style=\"text-align: right;\">\n",
              "      <th></th>\n",
              "      <th>X</th>\n",
              "      <th>Y</th>\n",
              "      <th>Z</th>\n",
              "    </tr>\n",
              "  </thead>\n",
              "  <tbody>\n",
              "    <tr>\n",
              "      <th>0</th>\n",
              "      <td>-0.107873</td>\n",
              "      <td>0.088260</td>\n",
              "      <td>9.806650</td>\n",
              "    </tr>\n",
              "    <tr>\n",
              "      <th>1</th>\n",
              "      <td>-0.107873</td>\n",
              "      <td>0.068647</td>\n",
              "      <td>9.777230</td>\n",
              "    </tr>\n",
              "    <tr>\n",
              "      <th>2</th>\n",
              "      <td>-0.107873</td>\n",
              "      <td>0.078453</td>\n",
              "      <td>9.777230</td>\n",
              "    </tr>\n",
              "    <tr>\n",
              "      <th>3</th>\n",
              "      <td>-0.117680</td>\n",
              "      <td>0.068647</td>\n",
              "      <td>9.787037</td>\n",
              "    </tr>\n",
              "    <tr>\n",
              "      <th>4</th>\n",
              "      <td>-0.098067</td>\n",
              "      <td>0.078453</td>\n",
              "      <td>9.777230</td>\n",
              "    </tr>\n",
              "  </tbody>\n",
              "</table>\n",
              "</div>"
            ],
            "text/plain": [
              "          X         Y         Z\n",
              "0 -0.107873  0.088260  9.806650\n",
              "1 -0.107873  0.068647  9.777230\n",
              "2 -0.107873  0.078453  9.777230\n",
              "3 -0.117680  0.068647  9.787037\n",
              "4 -0.098067  0.078453  9.777230"
            ]
          },
          "metadata": {
            "tags": []
          },
          "execution_count": 25
        }
      ]
    },
    {
      "cell_type": "code",
      "metadata": {
        "id": "mEla6FLXIIrt",
        "colab_type": "code",
        "outputId": "09c9b656-a1d2-4159-ff1d-b4cadeb1ccd7",
        "colab": {
          "base_uri": "https://localhost:8080/",
          "height": 1000
        }
      },
      "source": [
        "import time\n",
        "tam=0\n",
        "for index in range(340):   \n",
        "    #index=0\n",
        "    start=time.time()\n",
        "    inp=np.array(result.iloc[index,:])\n",
        "    h=scaler.transform(inp.reshape(1,3))\n",
        "    pred=model.predict(h.reshape(1,1,3))\n",
        "    #model.evaluate(h.reshape(1,1,3),h.reshape(1,1,3))\n",
        "    error=np.mean(np.abs((pred.reshape(pred.shape[1],pred.shape[2]))-h))\n",
        "    print(error)\n",
        "    if (error>0.175):\n",
        "        print(index,\"Abnormal\")\n",
        "         \n",
        "    else:\n",
        "        print(index,\"Normal\")\n",
        "    end=time.time()\n",
        "    g=end-start\n",
        "    if g>tam:\n",
        "        tam=g\n",
        "print(tam)"
      ],
      "execution_count": 0,
      "outputs": [
        {
          "output_type": "stream",
          "text": [
            "0.0005291197947819107\n",
            "0 Normal\n",
            "0.0002810270370723715\n",
            "1 Normal\n",
            "0.00035581999992506663\n",
            "2 Normal\n",
            "0.00032613838530271\n",
            "3 Normal\n",
            "0.0003370797778459537\n",
            "4 Normal\n",
            "0.00038182853115390863\n",
            "5 Normal\n",
            "0.00041200188409566224\n",
            "6 Normal\n",
            "0.00038182853115390863\n",
            "7 Normal\n",
            "0.00043104509645238337\n",
            "8 Normal\n",
            "0.0003273170865777386\n",
            "9 Normal\n",
            "0.0005144325718010415\n",
            "10 Normal\n",
            "0.00038182853115390863\n",
            "11 Normal\n",
            "0.00038182853115390863\n",
            "12 Normal\n",
            "0.0006576611404019254\n",
            "13 Normal\n",
            "0.00040456874102741863\n",
            "14 Normal\n",
            "0.0003617174022449617\n",
            "15 Normal\n",
            "0.0003457260255977183\n",
            "16 Normal\n",
            "0.00035581999992506663\n",
            "17 Normal\n",
            "0.00031891573399966955\n",
            "18 Normal\n",
            "0.00043785643665883445\n",
            "19 Normal\n",
            "0.00046049730545771883\n",
            "20 Normal\n",
            "0.0003273170865777386\n",
            "21 Normal\n",
            "0.00040281895638483167\n",
            "22 Normal\n",
            "0.0004582705558453896\n",
            "23 Normal\n",
            "0.00042664185616022216\n",
            "24 Normal\n",
            "0.0004582705558453896\n",
            "25 Normal\n",
            "0.00045690207970163393\n",
            "26 Normal\n",
            "0.00038309663939610034\n",
            "27 Normal\n",
            "0.00040456874102741863\n",
            "28 Normal\n",
            "0.0003617174022449617\n",
            "29 Normal\n",
            "0.00038182853115390863\n",
            "30 Normal\n",
            "0.00043785643665883445\n",
            "31 Normal\n",
            "0.0003617174022449617\n",
            "32 Normal\n",
            "0.0004582705558453896\n",
            "33 Normal\n",
            "0.00038182853115390863\n",
            "34 Normal\n",
            "0.00035581999992506663\n",
            "35 Normal\n",
            "0.00040249597008075916\n",
            "36 Normal\n",
            "0.00043785643665883445\n",
            "37 Normal\n",
            "0.0006576611404019254\n",
            "38 Normal\n",
            "0.00045690207970163393\n",
            "39 Normal\n",
            "0.0003617174022449617\n",
            "40 Normal\n",
            "0.00043104509645238337\n",
            "41 Normal\n",
            "0.0003606886741418143\n",
            "42 Normal\n",
            "0.00035581999992506663\n",
            "43 Normal\n",
            "0.00046800502679559636\n",
            "44 Normal\n",
            "0.0003748240788981431\n",
            "45 Normal\n",
            "0.0004582705558453896\n",
            "46 Normal\n",
            "0.0004963133039018741\n",
            "47 Normal\n",
            "0.00048730148642892973\n",
            "48 Normal\n",
            "0.00040456874102741863\n",
            "49 Normal\n",
            "0.0005311209401277125\n",
            "50 Normal\n",
            "0.0004582705558453896\n",
            "51 Normal\n",
            "0.00028881339613314366\n",
            "52 Normal\n",
            "0.00032320587562909936\n",
            "53 Normal\n",
            "0.00026682324459078216\n",
            "54 Normal\n",
            "0.0010631401172905657\n",
            "55 Normal\n",
            "0.0014503713228421848\n",
            "56 Normal\n",
            "0.00048015245903243464\n",
            "57 Normal\n",
            "0.0014616962591174436\n",
            "58 Normal\n",
            "0.00035506606391166873\n",
            "59 Normal\n",
            "0.00038218978849839197\n",
            "60 Normal\n",
            "0.00036572824529220355\n",
            "61 Normal\n",
            "0.0005381029985835525\n",
            "62 Normal\n",
            "0.0006443617751749064\n",
            "63 Normal\n",
            "0.0005565274088756289\n",
            "64 Normal\n",
            "0.0009536288489987074\n",
            "65 Normal\n",
            "0.0009281796358044195\n",
            "66 Normal\n",
            "0.00032320587562909936\n",
            "67 Normal\n",
            "0.0006164947099493445\n",
            "68 Normal\n",
            "0.000527997712287657\n",
            "69 Normal\n",
            "0.001284963389058554\n",
            "70 Normal\n",
            "0.0007576455737450435\n",
            "71 Normal\n",
            "0.0010239379734110117\n",
            "72 Normal\n",
            "0.001128160672113539\n",
            "73 Normal\n",
            "0.0013762603730071616\n",
            "74 Normal\n",
            "0.0012701630171042717\n",
            "75 Normal\n",
            "0.0029350489976281424\n",
            "76 Normal\n",
            "0.0012991961620656782\n",
            "77 Normal\n",
            "0.005124865402954759\n",
            "78 Normal\n",
            "0.0021047992216477462\n",
            "79 Normal\n",
            "0.004338497176780143\n",
            "80 Normal\n",
            "0.0004963063885936592\n",
            "81 Normal\n",
            "0.0019931234135661855\n",
            "82 Normal\n",
            "0.003161341086592736\n",
            "83 Normal\n",
            "0.0036141941893937934\n",
            "84 Normal\n",
            "0.002995384442455155\n",
            "85 Normal\n",
            "0.0016605095807582886\n",
            "86 Normal\n",
            "0.004325366048599066\n",
            "87 Normal\n",
            "0.004365765957571839\n",
            "88 Normal\n",
            "0.001710571400162934\n",
            "89 Normal\n",
            "0.0016615715364524108\n",
            "90 Normal\n",
            "0.005698505550541503\n",
            "91 Normal\n",
            "0.006070192952432736\n",
            "92 Normal\n",
            "0.002189179286206433\n",
            "93 Normal\n",
            "0.0020071629469952113\n",
            "94 Normal\n",
            "0.0025455063392321176\n",
            "95 Normal\n",
            "0.008996977969707276\n",
            "96 Normal\n",
            "0.0012106979814086039\n",
            "97 Normal\n",
            "0.0029335640902181104\n",
            "98 Normal\n",
            "0.001953144360266871\n",
            "99 Normal\n",
            "0.0015655334989456149\n",
            "100 Normal\n",
            "0.0021055746033280345\n",
            "101 Normal\n",
            "0.0029741658802805437\n",
            "102 Normal\n",
            "0.006077865542110493\n",
            "103 Normal\n",
            "0.006584390730373146\n",
            "104 Normal\n",
            "0.006409097387790025\n",
            "105 Normal\n",
            "0.0014218877888942567\n",
            "106 Normal\n",
            "0.014409168919583762\n",
            "107 Normal\n",
            "0.003016839332464013\n",
            "108 Normal\n",
            "0.0025358444784908487\n",
            "109 Normal\n",
            "0.0032297979487224495\n",
            "110 Normal\n",
            "0.003733513074743048\n",
            "111 Normal\n",
            "0.013359262797493629\n",
            "112 Normal\n",
            "0.0028308766630227114\n",
            "113 Normal\n",
            "0.00269506171560005\n",
            "114 Normal\n",
            "0.003357002889094\n",
            "115 Normal\n",
            "0.00369559314479991\n",
            "116 Normal\n",
            "0.01602471375877697\n",
            "117 Normal\n",
            "0.00778480537597707\n",
            "118 Normal\n",
            "0.003296431616361247\n",
            "119 Normal\n",
            "0.0032091911425931228\n",
            "120 Normal\n",
            "0.015592231536577794\n",
            "121 Normal\n",
            "0.0032905471368022687\n",
            "122 Normal\n",
            "0.00404121346450322\n",
            "123 Normal\n",
            "0.004696135409561579\n",
            "124 Normal\n",
            "0.004285080695401659\n",
            "125 Normal\n",
            "0.001986336142200599\n",
            "126 Normal\n",
            "0.0015446484838241477\n",
            "127 Normal\n",
            "0.003631698725291325\n",
            "128 Normal\n",
            "0.0021839101494436908\n",
            "129 Normal\n",
            "0.0018053095137325892\n",
            "130 Normal\n",
            "0.010023611132833047\n",
            "131 Normal\n",
            "0.016091176993261163\n",
            "132 Normal\n",
            "0.006041453894698419\n",
            "133 Normal\n",
            "0.006725267821499847\n",
            "134 Normal\n",
            "0.008493221371072557\n",
            "135 Normal\n",
            "0.001797562609682446\n",
            "136 Normal\n",
            "0.0021687442311268956\n",
            "137 Normal\n",
            "0.0028340496372802337\n",
            "138 Normal\n",
            "0.003251357334421038\n",
            "139 Normal\n",
            "0.0033712543670209594\n",
            "140 Normal\n",
            "0.0018456895182798472\n",
            "141 Normal\n",
            "0.002400916261559416\n",
            "142 Normal\n",
            "0.0033613265120110056\n",
            "143 Normal\n",
            "0.0017586225846660808\n",
            "144 Normal\n",
            "0.003343322284900622\n",
            "145 Normal\n",
            "0.0029751016035640863\n",
            "146 Normal\n",
            "0.0035073743740899146\n",
            "147 Normal\n",
            "0.00483528718092487\n",
            "148 Normal\n",
            "0.006440420511699037\n",
            "149 Normal\n",
            "0.0022134495705507704\n",
            "150 Normal\n",
            "0.005737699858876196\n",
            "151 Normal\n",
            "0.003643684207564187\n",
            "152 Normal\n",
            "0.005599593875939797\n",
            "153 Normal\n",
            "0.00455179906420287\n",
            "154 Normal\n",
            "0.0028633401728400862\n",
            "155 Normal\n",
            "0.0044040419556924575\n",
            "156 Normal\n",
            "0.0049433533674096974\n",
            "157 Normal\n",
            "0.0018017576989547979\n",
            "158 Normal\n",
            "0.0021136876651946155\n",
            "159 Normal\n",
            "0.0026217314942675687\n",
            "160 Normal\n",
            "0.0006753791109499474\n",
            "161 Normal\n",
            "0.0038611916699310043\n",
            "162 Normal\n",
            "0.0022208645166096517\n",
            "163 Normal\n",
            "0.00790042740894433\n",
            "164 Normal\n",
            "0.0028155719076848515\n",
            "165 Normal\n",
            "0.00440295976342762\n",
            "166 Normal\n",
            "0.012636032275441004\n",
            "167 Normal\n",
            "0.002394493726807297\n",
            "168 Normal\n",
            "0.0018243203451153156\n",
            "169 Normal\n",
            "0.0028925574646407695\n",
            "170 Normal\n",
            "0.0025590896867655664\n",
            "171 Normal\n",
            "0.003825030289866138\n",
            "172 Normal\n",
            "0.0031144929159797794\n",
            "173 Normal\n",
            "0.003302868032558729\n",
            "174 Normal\n",
            "0.004533058999253399\n",
            "175 Normal\n",
            "0.002051369310703081\n",
            "176 Normal\n",
            "0.0035267174680349935\n",
            "177 Normal\n",
            "0.0024891888723957145\n",
            "178 Normal\n",
            "0.0024764386397826224\n",
            "179 Normal\n",
            "0.0026942419348571964\n",
            "180 Normal\n",
            "0.0018751033582170746\n",
            "181 Normal\n",
            "0.0015325683215943742\n",
            "182 Normal\n",
            "0.00195989153035551\n",
            "183 Normal\n",
            "0.0017607591751852374\n",
            "184 Normal\n",
            "0.002317181280757067\n",
            "185 Normal\n",
            "0.004735745549505362\n",
            "186 Normal\n",
            "0.002271932719803212\n",
            "187 Normal\n",
            "0.0017494297295093109\n",
            "188 Normal\n",
            "0.003225980768013189\n",
            "189 Normal\n",
            "0.0019298253393594071\n",
            "190 Normal\n",
            "0.0019516664988478798\n",
            "191 Normal\n",
            "0.003134250962318341\n",
            "192 Normal\n",
            "0.007328974506168133\n",
            "193 Normal\n",
            "0.002757252552227085\n",
            "194 Normal\n",
            "0.00486702479324332\n",
            "195 Normal\n",
            "0.0018533408548638646\n",
            "196 Normal\n",
            "0.002583724747679169\n",
            "197 Normal\n",
            "0.0035010426495153957\n",
            "198 Normal\n",
            "0.0027513154504125357\n",
            "199 Normal\n",
            "0.0020816982250632297\n",
            "200 Normal\n",
            "0.0025554685633089602\n",
            "201 Normal\n",
            "0.0029847723072499352\n",
            "202 Normal\n",
            "0.0011896555515621594\n",
            "203 Normal\n",
            "0.0019093146927602518\n",
            "204 Normal\n",
            "0.002543618312629281\n",
            "205 Normal\n",
            "0.004826070404532784\n",
            "206 Normal\n",
            "0.0034720250041138934\n",
            "207 Normal\n",
            "0.002493802715284451\n",
            "208 Normal\n",
            "0.0032969165677681858\n",
            "209 Normal\n",
            "0.00873278856077355\n",
            "210 Normal\n",
            "0.0040867168596730825\n",
            "211 Normal\n",
            "0.0043219809435948164\n",
            "212 Normal\n",
            "0.0052894775723792515\n",
            "213 Normal\n",
            "0.0023692556232109605\n",
            "214 Normal\n",
            "0.012008704923686034\n",
            "215 Normal\n",
            "0.0031684322827568723\n",
            "216 Normal\n",
            "0.003937389509477547\n",
            "217 Normal\n",
            "0.006273193756959876\n",
            "218 Normal\n",
            "0.005981733672900354\n",
            "219 Normal\n",
            "0.0018507391826781405\n",
            "220 Normal\n",
            "0.007920844355247888\n",
            "221 Normal\n",
            "0.00291464379885951\n",
            "222 Normal\n",
            "0.011090364954527346\n",
            "223 Normal\n",
            "0.0072020424363351265\n",
            "224 Normal\n",
            "0.0061406343765062115\n",
            "225 Normal\n",
            "0.005834021800575943\n",
            "226 Normal\n",
            "0.013340116007154956\n",
            "227 Normal\n",
            "0.0025702974793346636\n",
            "228 Normal\n",
            "0.005158156636570155\n",
            "229 Normal\n",
            "0.0073974266767655355\n",
            "230 Normal\n",
            "0.004436158689933097\n",
            "231 Normal\n",
            "0.010976418904364441\n",
            "232 Normal\n",
            "0.014126686430376992\n",
            "233 Normal\n",
            "0.004978036782219086\n",
            "234 Normal\n",
            "0.005525180423295084\n",
            "235 Normal\n",
            "0.0011571893415121732\n",
            "236 Normal\n",
            "0.0007354238387060804\n",
            "237 Normal\n",
            "0.0006232353529196377\n",
            "238 Normal\n",
            "0.000798540657258151\n",
            "239 Normal\n",
            "0.0005234904744640759\n",
            "240 Normal\n",
            "0.0008337608500503801\n",
            "241 Normal\n",
            "0.0005999047726395293\n",
            "242 Normal\n",
            "0.00039862770633366146\n",
            "243 Normal\n",
            "0.0005733474348141495\n",
            "244 Normal\n",
            "0.0007197410102283511\n",
            "245 Normal\n",
            "0.00044757405847569337\n",
            "246 Normal\n",
            "0.00043785643665883445\n",
            "247 Normal\n",
            "0.0006420179683883273\n",
            "248 Normal\n",
            "0.0006001591192065966\n",
            "249 Normal\n",
            "0.0004792906555871612\n",
            "250 Normal\n",
            "0.00039500911056685367\n",
            "251 Normal\n",
            "0.0005466395758359684\n",
            "252 Normal\n",
            "0.00036043840553205236\n",
            "253 Normal\n",
            "0.00032613838530271\n",
            "254 Normal\n",
            "0.00039433116057315437\n",
            "255 Normal\n",
            "0.0005802073855134168\n",
            "256 Normal\n",
            "0.0004237842907240201\n",
            "257 Normal\n",
            "0.00044757405847569337\n",
            "258 Normal\n",
            "0.0004580495415772434\n",
            "259 Normal\n",
            "0.0005999047726395293\n",
            "260 Normal\n",
            "0.0003714186133597641\n",
            "261 Normal\n",
            "0.0004709047593478936\n",
            "262 Normal\n",
            "0.00046381430976938365\n",
            "263 Normal\n",
            "0.0003397361972290828\n",
            "264 Normal\n",
            "0.0006572226247265242\n",
            "265 Normal\n",
            "0.0004580495415772434\n",
            "266 Normal\n",
            "0.000547072192224681\n",
            "267 Normal\n",
            "0.0003686554219444564\n",
            "268 Normal\n",
            "0.0004168031495453232\n",
            "269 Normal\n",
            "0.00041339769865781734\n",
            "270 Normal\n",
            "0.00043649796708622457\n",
            "271 Normal\n",
            "0.0004456040861165282\n",
            "272 Normal\n",
            "0.00035382544876009597\n",
            "273 Normal\n",
            "0.000547072192224681\n",
            "274 Normal\n",
            "0.0004724967529093904\n",
            "275 Normal\n",
            "0.0005276305887426854\n",
            "276 Normal\n",
            "0.0004017126519142063\n",
            "277 Normal\n",
            "0.0004580495415772434\n",
            "278 Normal\n",
            "0.00039500911056685367\n",
            "279 Normal\n",
            "0.00046800502679559636\n",
            "280 Normal\n",
            "0.00046800502679559636\n",
            "281 Normal\n",
            "0.0004154977355593781\n",
            "282 Normal\n",
            "0.0005213333914381909\n",
            "283 Normal\n",
            "0.0004916516711344446\n",
            "284 Normal\n",
            "0.00047694271549525435\n",
            "285 Normal\n",
            "0.00038207339310973126\n",
            "286 Normal\n",
            "0.0004961906370994548\n",
            "287 Normal\n",
            "0.00046800502679559636\n",
            "288 Normal\n",
            "0.00057521402019034\n",
            "289 Normal\n",
            "0.0004916516711344446\n",
            "290 Normal\n",
            "0.0004456040861165282\n",
            "291 Normal\n",
            "0.0006014808382132086\n",
            "292 Normal\n",
            "0.00043649796708622457\n",
            "293 Normal\n",
            "0.0004154977355593781\n",
            "294 Normal\n",
            "0.0004963133039018741\n",
            "295 Normal\n",
            "0.0004237842907240201\n",
            "296 Normal\n",
            "0.0004916516711344446\n",
            "297 Normal\n",
            "0.00039433116057315437\n",
            "298 Normal\n",
            "0.00046800502679559636\n",
            "299 Normal\n",
            "0.00046800502679559636\n",
            "300 Normal\n",
            "0.0005213333914381909\n",
            "301 Normal\n",
            "0.13419671444133077\n",
            "302 Normal\n",
            "0.0784063444172078\n",
            "303 Normal\n",
            "1.643724416609577\n",
            "304 Abnormal\n",
            "0.2516463068732026\n",
            "305 Abnormal\n",
            "0.17852975848208466\n",
            "306 Abnormal\n",
            "0.005648878769056231\n",
            "307 Normal\n",
            "0.007683612513790942\n",
            "308 Normal\n",
            "0.0013926672293885407\n",
            "309 Normal\n",
            "0.00649650621232319\n",
            "310 Normal\n",
            "0.006476808430935492\n",
            "311 Normal\n",
            "0.005574735508665089\n",
            "312 Normal\n",
            "0.0033921926770553354\n",
            "313 Normal\n",
            "0.006222416811776044\n",
            "314 Normal\n",
            "0.001973246193348451\n",
            "315 Normal\n",
            "0.005775903071859341\n",
            "316 Normal\n",
            "0.002838812188944051\n",
            "317 Normal\n",
            "0.0021031936978942642\n",
            "318 Normal\n",
            "0.010438301479133402\n",
            "319 Normal\n",
            "0.0024530240497544673\n",
            "320 Normal\n",
            "0.032904735531270844\n",
            "321 Normal\n",
            "0.21597808763275983\n",
            "322 Abnormal\n",
            "1.114979888192979\n",
            "323 Abnormal\n",
            "1.8409991490171373\n",
            "324 Abnormal\n",
            "1.0700895916891655\n",
            "325 Abnormal\n",
            "3.328980968969237\n",
            "326 Abnormal\n",
            "1.8553565262028189\n",
            "327 Abnormal\n",
            "2.6366499099985696\n",
            "328 Abnormal\n",
            "1.9360880505065043\n",
            "329 Abnormal\n",
            "2.647640794682498\n",
            "330 Abnormal\n",
            "2.217547941711092\n",
            "331 Abnormal\n",
            "2.3099437747858844\n",
            "332 Abnormal\n",
            "3.087197896235104\n",
            "333 Abnormal\n",
            "2.9972090839843086\n",
            "334 Abnormal\n",
            "4.955042515756573\n",
            "335 Abnormal\n",
            "1.8048643091167207\n",
            "336 Abnormal\n",
            "2.0318203475661583\n",
            "337 Abnormal\n",
            "2.275394175123987\n",
            "338 Abnormal\n",
            "2.8113110198034246\n",
            "339 Abnormal\n",
            "0.005751848220825195\n"
          ],
          "name": "stdout"
        }
      ]
    },
    {
      "cell_type": "code",
      "metadata": {
        "id": "bwU8d347IWOd",
        "colab_type": "code",
        "colab": {}
      },
      "source": [
        ""
      ],
      "execution_count": 0,
      "outputs": []
    }
  ]
}